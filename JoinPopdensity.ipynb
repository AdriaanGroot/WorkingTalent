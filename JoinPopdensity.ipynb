{
 "cells": [
  {
   "cell_type": "code",
   "execution_count": null,
   "metadata": {},
   "outputs": [],
   "source": [
    "import numpy as np\n",
    "import pandas as pd\n",
    "import matplotlib.pyplot as plt\n",
    "import cartopy.crs as ccrs \n",
    "from matplotlib import ticker, cm"
   ]
  },
  {
   "cell_type": "code",
   "execution_count": null,
   "metadata": {},
   "outputs": [],
   "source": [
    "accidents_uned = pd.read_csv(\".\\Accidents_June20.csv\")"
   ]
  },
  {
   "cell_type": "code",
   "execution_count": null,
   "metadata": {},
   "outputs": [],
   "source": [
    "# source: https://sedac.ciesin.columbia.edu/data/set/gpw-v4-population-density-rev11/data-download\n",
    "# NASA: socioeconomic data and applications center (SEDAC)\n",
    "pop = np.genfromtxt(\".\\popdensity3\\gpw_v4_population_density_rev11_2020_2pt5_min.asc\", skip_header=6)\n",
    "\n",
    "# betere resolutie (maar niet genoeg memory op pc)\n",
    "#pop = np.genfromtxt(\".\\popdensity\\gpw_v4_population_density_rev11_2020_30_sec_1.asc\", skip_header=6)"
   ]
  },
  {
   "cell_type": "code",
   "execution_count": null,
   "metadata": {},
   "outputs": [],
   "source": [
    "lons = np.arange(-180,180,360/np.shape(pop)[1]) + 360/np.shape(pop)[1]/2\n",
    "lats = np.arange(90,-90,-180/np.shape(pop)[0]) + 180/np.shape(pop)[0]/2"
   ]
  },
  {
   "cell_type": "code",
   "execution_count": null,
   "metadata": {},
   "outputs": [],
   "source": [
    "masked_pop = np.ma.masked_where(pop == -9999,pop)"
   ]
  },
  {
   "cell_type": "markdown",
   "metadata": {},
   "source": [
    "### Maak een plaatje"
   ]
  },
  {
   "cell_type": "code",
   "execution_count": null,
   "metadata": {},
   "outputs": [],
   "source": [
    "fig = plt.figure(figsize=(15,9))\n",
    "ax = fig.add_subplot(1, 1, 1, projection=ccrs.PlateCarree())\n",
    "\n",
    "#ax.stock_img()\n",
    "ax.coastlines()\n",
    "plt.xticks(np.arange(-180,181,60), fontsize=15)  \n",
    "plt.yticks(np.arange(-90,91,30), fontsize=15) \n",
    "CS = plt.contourf(lons,lats,masked_pop+0.01,cmap=plt.cm.jet, locator=ticker.LogLocator(), levels=np.logspace(-3,5,33))\n",
    "for c in CS.collections:\n",
    "    c.set_edgecolor(\"face\")\n",
    "plt.xlim(-180,180)\n",
    "#plt.ylim(20,60)\n",
    "plt.xlabel('longitude [$\\degree$E]', fontsize=15)\n",
    "plt.ylabel('latitude [$\\degree$N]', fontsize=15)\n",
    "plt.title('Population density [persons/km$^2$]', fontsize=15)\n",
    "plt.grid(True)\n",
    "plt.colorbar(fraction=0.040, pad=0.04)\n",
    "\n",
    "# January\n",
    "plt.show()"
   ]
  },
  {
   "cell_type": "markdown",
   "metadata": {},
   "source": [
    "### Maak de nieuwe database, met population density per accident"
   ]
  },
  {
   "cell_type": "code",
   "execution_count": null,
   "metadata": {},
   "outputs": [],
   "source": [
    "popdens_vals = np.zeros(np.size(accidents_uned[\"Start_Lat\"]))\n",
    "#itts = 0\n",
    "\n",
    "for i,x in enumerate(accidents_uned[\"Start_Lat\"]):\n",
    "    n_lat = np.argmin(np.abs(lats-accidents_uned[\"Start_Lat\"][i]))\n",
    "    n_lon = np.argmin(np.abs(lons-accidents_uned[\"Start_Lng\"][i]))\n",
    "    popdens_vals[i] = masked_pop.data[n_lat][n_lon]\n",
    "    #itts += 1\n",
    "    #if itts > 50:\n",
    "        #break"
   ]
  },
  {
   "cell_type": "code",
   "execution_count": null,
   "metadata": {},
   "outputs": [],
   "source": [
    "accidents_uned[\"Population_Density\"] = popdens_vals"
   ]
  },
  {
   "cell_type": "code",
   "execution_count": null,
   "metadata": {},
   "outputs": [],
   "source": [
    "#accidents_uned.to_csv(\"./Accidents_Popdensity.csv\", chunksize=1000)"
   ]
  }
 ],
 "metadata": {
  "kernelspec": {
   "display_name": "Python 3",
   "language": "python",
   "name": "python3"
  },
  "language_info": {
   "codemirror_mode": {
    "name": "ipython",
    "version": 3
   },
   "file_extension": ".py",
   "mimetype": "text/x-python",
   "name": "python",
   "nbconvert_exporter": "python",
   "pygments_lexer": "ipython3",
   "version": "3.6.5"
  }
 },
 "nbformat": 4,
 "nbformat_minor": 2
}
