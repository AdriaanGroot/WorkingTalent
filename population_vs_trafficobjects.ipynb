{
 "cells": [
  {
   "cell_type": "code",
   "execution_count": 1,
   "metadata": {},
   "outputs": [],
   "source": [
    "import numpy as np\n",
    "import pandas as pd\n",
    "import csv"
   ]
  },
  {
   "cell_type": "code",
   "execution_count": 60,
   "metadata": {},
   "outputs": [],
   "source": [
    "# This file makes a dataframe that compares the population density to what traffic 'objects' such as railways or crossings are\n",
    "# present. It then stores it in a csv file"
   ]
  },
  {
   "cell_type": "code",
   "execution_count": 27,
   "metadata": {},
   "outputs": [],
   "source": [
    "cols_used = [\"Population\",\"Bump\",\"Crossing\",\"Give_Way\",\"Junction\",\"No_Exit\",\"Railway\",\"Roundabout\",\"Station\",\"Stop\",\n",
    "             \"Traffic_Calming\",\"Traffic_Signal\",\"Turning_Loop\"]\n",
    "pop_types = [\"Very sparse\",\"Sparse\",\"Rural\",\"Medium\",\"Urban\",\"Dense\"]"
   ]
  },
  {
   "cell_type": "code",
   "execution_count": 6,
   "metadata": {},
   "outputs": [],
   "source": [
    "boolcolumns = pd.read_csv(\".\\Accidents_powerBI.csv\",usecols=cols_used)"
   ]
  },
  {
   "cell_type": "code",
   "execution_count": 43,
   "metadata": {},
   "outputs": [],
   "source": [
    "new_df = pd.DataFrame(columns=cols_used + [\"Nothing\"])\n",
    "new_df[\"Population\"] = pop_types"
   ]
  },
  {
   "cell_type": "code",
   "execution_count": 44,
   "metadata": {},
   "outputs": [],
   "source": [
    "for traffic_object in cols_used[1:]:\n",
    "    for i,pop_type in enumerate(pop_types):\n",
    "        new_df[traffic_object][i] = boolcolumns[boolcolumns[\"Population\"]==pop_type][traffic_object].sum()"
   ]
  },
  {
   "cell_type": "code",
   "execution_count": 57,
   "metadata": {},
   "outputs": [],
   "source": [
    "for i,pop_type in enumerate(pop_types):\n",
    "    new_df[\"Nothing\"][i] = (boolcolumns[boolcolumns[\"Population\"]==pop_type].sum(axis=1) ==0).sum()"
   ]
  },
  {
   "cell_type": "code",
   "execution_count": 58,
   "metadata": {},
   "outputs": [
    {
     "data": {
      "text/html": [
       "<div>\n",
       "<style scoped>\n",
       "    .dataframe tbody tr th:only-of-type {\n",
       "        vertical-align: middle;\n",
       "    }\n",
       "\n",
       "    .dataframe tbody tr th {\n",
       "        vertical-align: top;\n",
       "    }\n",
       "\n",
       "    .dataframe thead th {\n",
       "        text-align: right;\n",
       "    }\n",
       "</style>\n",
       "<table border=\"1\" class=\"dataframe\">\n",
       "  <thead>\n",
       "    <tr style=\"text-align: right;\">\n",
       "      <th></th>\n",
       "      <th>Population</th>\n",
       "      <th>Bump</th>\n",
       "      <th>Crossing</th>\n",
       "      <th>Give_Way</th>\n",
       "      <th>Junction</th>\n",
       "      <th>No_Exit</th>\n",
       "      <th>Railway</th>\n",
       "      <th>Roundabout</th>\n",
       "      <th>Station</th>\n",
       "      <th>Stop</th>\n",
       "      <th>Traffic_Calming</th>\n",
       "      <th>Traffic_Signal</th>\n",
       "      <th>Turning_Loop</th>\n",
       "      <th>Nothing</th>\n",
       "    </tr>\n",
       "  </thead>\n",
       "  <tbody>\n",
       "    <tr>\n",
       "      <td>0</td>\n",
       "      <td>Very sparse</td>\n",
       "      <td>15</td>\n",
       "      <td>14377</td>\n",
       "      <td>1115</td>\n",
       "      <td>32089</td>\n",
       "      <td>125</td>\n",
       "      <td>3608</td>\n",
       "      <td>20</td>\n",
       "      <td>1804</td>\n",
       "      <td>11924</td>\n",
       "      <td>52</td>\n",
       "      <td>35320</td>\n",
       "      <td>0</td>\n",
       "      <td>456649</td>\n",
       "    </tr>\n",
       "    <tr>\n",
       "      <td>1</td>\n",
       "      <td>Sparse</td>\n",
       "      <td>117</td>\n",
       "      <td>34782</td>\n",
       "      <td>1362</td>\n",
       "      <td>43061</td>\n",
       "      <td>322</td>\n",
       "      <td>4153</td>\n",
       "      <td>46</td>\n",
       "      <td>5289</td>\n",
       "      <td>7197</td>\n",
       "      <td>196</td>\n",
       "      <td>96746</td>\n",
       "      <td>0</td>\n",
       "      <td>442257</td>\n",
       "    </tr>\n",
       "    <tr>\n",
       "      <td>2</td>\n",
       "      <td>Rural</td>\n",
       "      <td>61</td>\n",
       "      <td>48602</td>\n",
       "      <td>1784</td>\n",
       "      <td>44112</td>\n",
       "      <td>975</td>\n",
       "      <td>3492</td>\n",
       "      <td>19</td>\n",
       "      <td>7766</td>\n",
       "      <td>5832</td>\n",
       "      <td>116</td>\n",
       "      <td>120357</td>\n",
       "      <td>0</td>\n",
       "      <td>418297</td>\n",
       "    </tr>\n",
       "    <tr>\n",
       "      <td>3</td>\n",
       "      <td>Medium</td>\n",
       "      <td>190</td>\n",
       "      <td>101888</td>\n",
       "      <td>3069</td>\n",
       "      <td>70719</td>\n",
       "      <td>1009</td>\n",
       "      <td>7313</td>\n",
       "      <td>45</td>\n",
       "      <td>21120</td>\n",
       "      <td>12471</td>\n",
       "      <td>445</td>\n",
       "      <td>217326</td>\n",
       "      <td>0</td>\n",
       "      <td>603666</td>\n",
       "    </tr>\n",
       "    <tr>\n",
       "      <td>4</td>\n",
       "      <td>Urban</td>\n",
       "      <td>218</td>\n",
       "      <td>63395</td>\n",
       "      <td>2042</td>\n",
       "      <td>74733</td>\n",
       "      <td>1629</td>\n",
       "      <td>9884</td>\n",
       "      <td>46</td>\n",
       "      <td>26176</td>\n",
       "      <td>11985</td>\n",
       "      <td>541</td>\n",
       "      <td>129826</td>\n",
       "      <td>0</td>\n",
       "      <td>459614</td>\n",
       "    </tr>\n",
       "    <tr>\n",
       "      <td>5</td>\n",
       "      <td>Dense</td>\n",
       "      <td>4</td>\n",
       "      <td>10812</td>\n",
       "      <td>182</td>\n",
       "      <td>18375</td>\n",
       "      <td>322</td>\n",
       "      <td>2697</td>\n",
       "      <td>8</td>\n",
       "      <td>7930</td>\n",
       "      <td>2311</td>\n",
       "      <td>21</td>\n",
       "      <td>23181</td>\n",
       "      <td>0</td>\n",
       "      <td>87778</td>\n",
       "    </tr>\n",
       "  </tbody>\n",
       "</table>\n",
       "</div>"
      ],
      "text/plain": [
       "    Population Bump Crossing Give_Way Junction No_Exit Railway Roundabout  \\\n",
       "0  Very sparse   15    14377     1115    32089     125    3608         20   \n",
       "1       Sparse  117    34782     1362    43061     322    4153         46   \n",
       "2        Rural   61    48602     1784    44112     975    3492         19   \n",
       "3       Medium  190   101888     3069    70719    1009    7313         45   \n",
       "4        Urban  218    63395     2042    74733    1629    9884         46   \n",
       "5        Dense    4    10812      182    18375     322    2697          8   \n",
       "\n",
       "  Station   Stop Traffic_Calming Traffic_Signal Turning_Loop Nothing  \n",
       "0    1804  11924              52          35320            0  456649  \n",
       "1    5289   7197             196          96746            0  442257  \n",
       "2    7766   5832             116         120357            0  418297  \n",
       "3   21120  12471             445         217326            0  603666  \n",
       "4   26176  11985             541         129826            0  459614  \n",
       "5    7930   2311              21          23181            0   87778  "
      ]
     },
     "execution_count": 58,
     "metadata": {},
     "output_type": "execute_result"
    }
   ],
   "source": [
    "new_df"
   ]
  },
  {
   "cell_type": "code",
   "execution_count": 59,
   "metadata": {},
   "outputs": [],
   "source": [
    "new_df.to_csv(\"./Traffic_objects.csv\")"
   ]
  },
  {
   "cell_type": "code",
   "execution_count": null,
   "metadata": {},
   "outputs": [],
   "source": []
  }
 ],
 "metadata": {
  "kernelspec": {
   "display_name": "Python 3",
   "language": "python",
   "name": "python3"
  },
  "language_info": {
   "codemirror_mode": {
    "name": "ipython",
    "version": 3
   },
   "file_extension": ".py",
   "mimetype": "text/x-python",
   "name": "python",
   "nbconvert_exporter": "python",
   "pygments_lexer": "ipython3",
   "version": "3.6.5"
  }
 },
 "nbformat": 4,
 "nbformat_minor": 2
}
